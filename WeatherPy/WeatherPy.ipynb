{
 "cells": [
  {
   "cell_type": "markdown",
   "metadata": {},
   "source": [
    "# WeatherPy\n",
    "----\n",
    "\n",
    "#### Note\n",
    "* Instructions have been included for each segment. You do not have to follow them exactly, but they are included to help you think through the steps."
   ]
  },
  {
   "cell_type": "code",
   "execution_count": 1,
   "metadata": {
    "scrolled": true
   },
   "outputs": [],
   "source": [
    "# Dependencies and Setup\n",
    "import matplotlib.pyplot as plt\n",
    "import pandas as pd\n",
    "import numpy as np\n",
    "import requests\n",
    "import time\n",
    "from scipy.stats import linregress\n",
    "from pprint import pprint\n",
    "\n",
    "# Import API key\n",
    "from api_keys import weather_api_key\n",
    "\n",
    "# Incorporated citipy to determine city based on latitude and longitude\n",
    "from citipy import citipy\n",
    "\n",
    "# Output File (CSV)\n",
    "output_data_file = \"output_data/cities.csv\"\n",
    "\n",
    "# Range of latitudes and longitudes\n",
    "lat_range = (-90, 90)\n",
    "lng_range = (-180, 180)"
   ]
  },
  {
   "cell_type": "markdown",
   "metadata": {},
   "source": [
    "## Generate Cities List"
   ]
  },
  {
   "cell_type": "code",
   "execution_count": 2,
   "metadata": {},
   "outputs": [
    {
     "data": {
      "text/plain": [
       "588"
      ]
     },
     "execution_count": 2,
     "metadata": {},
     "output_type": "execute_result"
    }
   ],
   "source": [
    "# List for holding lat_lngs and cities\n",
    "lat_lngs = []\n",
    "cities = []\n",
    "\n",
    "# Create a set of random lat and lng combinations\n",
    "lats = np.random.uniform(lat_range[0], lat_range[1], size=1500)\n",
    "lngs = np.random.uniform(lng_range[0], lng_range[1], size=1500)\n",
    "lat_lngs = zip(lats, lngs)\n",
    "\n",
    "# Identify nearest city for each lat, lng combination\n",
    "for lat_lng in lat_lngs:\n",
    "    city = citipy.nearest_city(lat_lng[0], lat_lng[1]).city_name\n",
    "    \n",
    "    # If the city is unique, then add it to a our cities list\n",
    "    if city not in cities:\n",
    "        cities.append(city)\n",
    "\n",
    "# Print the city count to confirm sufficient count\n",
    "len(cities)"
   ]
  },
  {
   "cell_type": "markdown",
   "metadata": {},
   "source": [
    "### Perform API Calls\n",
    "* Perform a weather check on each city using a series of successive API calls.\n",
    "* Include a print log of each city as it'sbeing processed (with the city number and city name).\n"
   ]
  },
  {
   "cell_type": "code",
   "execution_count": 3,
   "metadata": {
    "scrolled": true
   },
   "outputs": [
    {
     "name": "stdout",
     "output_type": "stream",
     "text": [
      "Beginning Data Retrieval\n",
      "------------------------\n",
      "Processing data for request number 1, blacksburg\n",
      "Processing data for request number 2, torbay\n",
      "Processing data for request number 3, hobart\n",
      "Processing data for request number 4, albany\n",
      "Processing data for request number 5, portland\n",
      "Processing data for request number 6, ushuaia\n",
      "Processing data for request number 7, hermanus\n",
      "Processing data for request number 8, naze\n",
      "Processing data for request number 9, busselton\n",
      "Processing data for request number 10, kontagora\n",
      "Processing data for request number 11, atambua\n",
      "Processing data for request number 12, oriximina\n",
      "Processing data for request number 13, hambantota\n",
      "Processing data for request number 14, aklavik\n",
      "Processing data for request number 15, rikitea\n",
      "City information not available, skipping to next city\n",
      "City information not available, skipping to next city\n",
      "Processing data for request number 18, sungaipenuh\n",
      "Processing data for request number 19, mar del plata\n",
      "City information not available, skipping to next city\n",
      "Processing data for request number 21, ekhabi\n",
      "Processing data for request number 22, raton\n",
      "Processing data for request number 23, yellowknife\n",
      "Processing data for request number 24, puerto ayora\n",
      "Processing data for request number 25, bluff\n",
      "Processing data for request number 26, coquimbo\n",
      "Processing data for request number 27, bandarbeyla\n",
      "Processing data for request number 28, qaanaaq\n",
      "Processing data for request number 29, merauke\n",
      "Processing data for request number 30, yulara\n",
      "City information not available, skipping to next city\n",
      "Processing data for request number 32, leh\n",
      "Processing data for request number 33, jamestown\n",
      "Processing data for request number 34, tasiilaq\n",
      "City information not available, skipping to next city\n",
      "Processing data for request number 36, cape town\n",
      "Processing data for request number 37, dzaoudzi\n",
      "Processing data for request number 38, bardsir\n",
      "Processing data for request number 39, porto novo\n",
      "City information not available, skipping to next city\n",
      "Processing data for request number 41, avarua\n",
      "Processing data for request number 42, thessalon\n",
      "Processing data for request number 43, verkhoyansk\n",
      "Processing data for request number 44, seoul\n",
      "Processing data for request number 45, antofagasta\n",
      "Processing data for request number 46, castro\n",
      "Processing data for request number 47, butaritari\n",
      "Processing data for request number 48, laguna\n",
      "Processing data for request number 49, vaini\n",
      "Processing data for request number 50, caravelas\n",
      "Processing data for request number 51, gazanjyk\n",
      "Processing data for request number 52, shu\n",
      "Processing data for request number 53, dikson\n",
      "Processing data for request number 54, port-gentil\n",
      "Processing data for request number 55, christchurch\n",
      "Processing data for request number 56, sao filipe\n",
      "Processing data for request number 57, atuona\n",
      "Processing data for request number 58, hilo\n",
      "Processing data for request number 59, iqaluit\n",
      "Processing data for request number 60, kapaa\n",
      "Processing data for request number 61, geraldton\n",
      "Processing data for request number 62, berlevag\n",
      "Processing data for request number 63, sitka\n",
      "Processing data for request number 64, dunedin\n",
      "Processing data for request number 65, bunia\n",
      "Processing data for request number 66, walvis bay\n",
      "Processing data for request number 67, bitkine\n",
      "Processing data for request number 68, vestmannaeyjar\n",
      "Processing data for request number 69, vinh\n",
      "Processing data for request number 70, saint-dizier\n",
      "Processing data for request number 71, sibolga\n",
      "City information not available, skipping to next city\n",
      "City information not available, skipping to next city\n",
      "Processing data for request number 74, male\n",
      "Processing data for request number 75, norman wells\n",
      "Processing data for request number 76, new norfolk\n",
      "Processing data for request number 77, ostersund\n",
      "Processing data for request number 78, east london\n",
      "Processing data for request number 79, plettenberg bay\n",
      "Processing data for request number 80, egvekinot\n",
      "Processing data for request number 81, roald\n",
      "Processing data for request number 82, kodiak\n",
      "City information not available, skipping to next city\n",
      "Processing data for request number 84, olinda\n",
      "Processing data for request number 85, cherskiy\n",
      "Processing data for request number 86, rocha\n",
      "Processing data for request number 87, chokurdakh\n",
      "Processing data for request number 88, mataura\n",
      "Processing data for request number 89, kolokani\n",
      "Processing data for request number 90, arraial do cabo\n",
      "Processing data for request number 91, kahului\n",
      "Processing data for request number 92, ouesso\n",
      "Processing data for request number 93, rajanpur\n",
      "Processing data for request number 94, port alfred\n",
      "Processing data for request number 95, hokitika\n",
      "Processing data for request number 96, baykit\n",
      "Processing data for request number 97, gribanovskiy\n",
      "Processing data for request number 98, ingham\n",
      "Processing data for request number 99, weligama\n",
      "Processing data for request number 100, abu kamal\n",
      "Processing data for request number 101, brae\n",
      "City information not available, skipping to next city\n",
      "Processing data for request number 103, mianyang\n",
      "Processing data for request number 104, cidreira\n",
      "Processing data for request number 105, flin flon\n",
      "Processing data for request number 106, texarkana\n",
      "Processing data for request number 107, taltal\n",
      "Processing data for request number 108, georgetown\n",
      "Processing data for request number 109, peniche\n",
      "Processing data for request number 110, fortuna\n",
      "Processing data for request number 111, mantua\n",
      "Processing data for request number 112, te anau\n",
      "Processing data for request number 113, hithadhoo\n",
      "Processing data for request number 114, jumla\n",
      "Processing data for request number 115, la rioja\n",
      "Processing data for request number 116, faya\n",
      "Processing data for request number 117, tiznit\n",
      "Processing data for request number 118, santa maria\n",
      "Processing data for request number 119, barrow\n",
      "Processing data for request number 120, narsaq\n",
      "Processing data for request number 121, salalah\n",
      "Processing data for request number 122, seoni malwa\n",
      "Processing data for request number 123, pisco\n",
      "Processing data for request number 124, tuatapere\n",
      "Processing data for request number 125, olesno\n",
      "Processing data for request number 126, gobabis\n",
      "Processing data for request number 127, tallahassee\n",
      "City information not available, skipping to next city\n",
      "Processing data for request number 129, ilulissat\n",
      "Processing data for request number 130, mount isa\n",
      "Processing data for request number 131, waspan\n",
      "Processing data for request number 132, punta arenas\n",
      "Processing data for request number 133, tuktoyaktuk\n",
      "Processing data for request number 134, saint-joseph\n",
      "Processing data for request number 135, karari\n",
      "Processing data for request number 136, carballo\n",
      "Processing data for request number 137, carnarvon\n",
      "Processing data for request number 138, katsuura\n",
      "City information not available, skipping to next city\n",
      "Processing data for request number 140, olafsvik\n",
      "Processing data for request number 141, shellbrook\n",
      "Processing data for request number 142, grindavik\n",
      "Processing data for request number 143, port elizabeth\n",
      "Processing data for request number 144, sabana grande de boya\n",
      "Processing data for request number 145, makakilo city\n",
      "City information not available, skipping to next city\n",
      "Processing data for request number 147, faanui\n",
      "Processing data for request number 148, kesinga\n",
      "Processing data for request number 149, victoria\n",
      "Processing data for request number 150, taos\n",
      "Processing data for request number 151, sarai alamgir\n",
      "Processing data for request number 152, la maddalena\n",
      "Processing data for request number 153, leningradskiy\n",
      "Processing data for request number 154, narasannapeta\n",
      "Processing data for request number 155, oga\n",
      "Processing data for request number 156, santiago del estero\n",
      "Processing data for request number 157, manoel urbano\n",
      "Processing data for request number 158, acapulco\n",
      "Processing data for request number 159, bredasdorp\n",
      "Processing data for request number 160, tiksi\n",
      "Processing data for request number 161, high level\n",
      "Processing data for request number 162, bereda\n",
      "Processing data for request number 163, kapit\n",
      "Processing data for request number 164, goderich\n",
      "Processing data for request number 165, coihaique\n",
      "Processing data for request number 166, richards bay\n"
     ]
    },
    {
     "name": "stdout",
     "output_type": "stream",
     "text": [
      "Processing data for request number 167, cefalu\n",
      "Processing data for request number 168, matara\n",
      "Processing data for request number 169, kalevala\n",
      "Processing data for request number 170, forbes\n",
      "Processing data for request number 171, severo-kurilsk\n",
      "Processing data for request number 172, belmonte\n",
      "Processing data for request number 173, korla\n",
      "Processing data for request number 174, clyde river\n",
      "Processing data for request number 175, ewa beach\n",
      "Processing data for request number 176, half moon bay\n",
      "Processing data for request number 177, waipawa\n",
      "Processing data for request number 178, fairbanks\n",
      "Processing data for request number 179, opuwo\n",
      "Processing data for request number 180, elizabeth city\n",
      "Processing data for request number 181, longyearbyen\n",
      "City information not available, skipping to next city\n",
      "Processing data for request number 183, bethel\n",
      "Processing data for request number 184, husavik\n",
      "Processing data for request number 185, fomboni\n",
      "City information not available, skipping to next city\n",
      "Processing data for request number 187, vostok\n",
      "Processing data for request number 188, auki\n",
      "Processing data for request number 189, seymchan\n",
      "Processing data for request number 190, baiao\n",
      "Processing data for request number 191, klaksvik\n",
      "Processing data for request number 192, sisimiut\n",
      "Processing data for request number 193, yangambi\n",
      "Processing data for request number 194, mirabad\n",
      "Processing data for request number 195, thompson\n",
      "Processing data for request number 196, kutum\n",
      "Processing data for request number 197, lebu\n",
      "Processing data for request number 198, okha\n",
      "Processing data for request number 199, havre-saint-pierre\n",
      "Processing data for request number 200, misratah\n",
      "City information not available, skipping to next city\n",
      "Processing data for request number 202, guanica\n",
      "Processing data for request number 203, morgan city\n",
      "Processing data for request number 204, jijiga\n",
      "City information not available, skipping to next city\n",
      "Processing data for request number 206, north bend\n",
      "Processing data for request number 207, harper\n",
      "Processing data for request number 208, honningsvag\n",
      "Processing data for request number 209, shihezi\n",
      "Processing data for request number 210, uetze\n",
      "Processing data for request number 211, khatanga\n",
      "Processing data for request number 212, ancud\n",
      "Processing data for request number 213, airai\n",
      "City information not available, skipping to next city\n",
      "Processing data for request number 215, provideniya\n",
      "Processing data for request number 216, iracoubo\n",
      "Processing data for request number 217, khandbari\n",
      "City information not available, skipping to next city\n",
      "Processing data for request number 219, talnakh\n",
      "Processing data for request number 220, paungde\n",
      "Processing data for request number 221, puerto quijarro\n",
      "Processing data for request number 222, aykhal\n",
      "Processing data for request number 223, los llanos de aridane\n",
      "Processing data for request number 224, garchitorena\n",
      "Processing data for request number 225, nanortalik\n",
      "Processing data for request number 226, calabozo\n",
      "Processing data for request number 227, sao felix do xingu\n",
      "Processing data for request number 228, ulladulla\n",
      "Processing data for request number 229, paramonga\n",
      "Processing data for request number 230, constitucion\n",
      "Processing data for request number 231, mehamn\n",
      "Processing data for request number 232, ribeira grande\n",
      "Processing data for request number 233, watsa\n",
      "Processing data for request number 234, eatonton\n",
      "City information not available, skipping to next city\n",
      "Processing data for request number 236, saskylakh\n",
      "Processing data for request number 237, yenagoa\n",
      "Processing data for request number 238, lata\n",
      "Processing data for request number 239, hudiksvall\n",
      "Processing data for request number 240, davidson\n",
      "Processing data for request number 241, cabo san lucas\n",
      "Processing data for request number 242, yomou\n",
      "Processing data for request number 243, darnah\n",
      "Processing data for request number 244, valdivia\n",
      "Processing data for request number 245, namatanai\n",
      "Processing data for request number 246, mahebourg\n",
      "Processing data for request number 247, amapa\n",
      "Processing data for request number 248, senneterre\n",
      "Processing data for request number 249, madimba\n",
      "Processing data for request number 250, solton\n",
      "Processing data for request number 251, flic en flac\n",
      "Processing data for request number 252, benghazi\n",
      "City information not available, skipping to next city\n",
      "City information not available, skipping to next city\n",
      "Processing data for request number 255, boyolangu\n",
      "Processing data for request number 256, taoudenni\n",
      "Processing data for request number 257, casablanca\n",
      "Processing data for request number 258, pervomayskoye\n",
      "City information not available, skipping to next city\n",
      "City information not available, skipping to next city\n",
      "Processing data for request number 261, boda\n",
      "City information not available, skipping to next city\n",
      "Processing data for request number 263, inirida\n",
      "Processing data for request number 264, upata\n",
      "Processing data for request number 265, san patricio\n",
      "Processing data for request number 266, comodoro rivadavia\n",
      "Processing data for request number 267, sebinkarahisar\n",
      "Processing data for request number 268, moerai\n",
      "Processing data for request number 269, cabinda\n",
      "Processing data for request number 270, bubaque\n",
      "Processing data for request number 271, mayo\n",
      "Processing data for request number 272, upernavik\n",
      "Processing data for request number 273, kalmunai\n",
      "Processing data for request number 274, tete\n",
      "Processing data for request number 275, harwich\n",
      "Processing data for request number 276, gonen\n",
      "Processing data for request number 277, hualmay\n",
      "Processing data for request number 278, deloraine\n",
      "Processing data for request number 279, chateau-gontier\n",
      "Processing data for request number 280, chara\n",
      "Processing data for request number 281, sabha\n",
      "Processing data for request number 282, tucumcari\n",
      "Processing data for request number 283, codrington\n",
      "Processing data for request number 284, guerrero negro\n",
      "Processing data for request number 285, rudbar\n",
      "Processing data for request number 286, isangel\n",
      "Processing data for request number 287, kaabong\n",
      "Processing data for request number 288, yashkul\n",
      "Processing data for request number 289, zeya\n",
      "Processing data for request number 290, bara\n",
      "Processing data for request number 291, esperance\n",
      "City information not available, skipping to next city\n",
      "Processing data for request number 293, yar-sale\n",
      "Processing data for request number 294, nantucket\n",
      "Processing data for request number 295, srednekolymsk\n",
      "Processing data for request number 296, kotma\n",
      "Processing data for request number 297, bairiki\n",
      "Processing data for request number 298, nador\n",
      "City information not available, skipping to next city\n",
      "Processing data for request number 300, coihueco\n",
      "Processing data for request number 301, yichun\n",
      "Processing data for request number 302, mahanoro\n",
      "Processing data for request number 303, nangwa\n",
      "Processing data for request number 304, celestun\n",
      "Processing data for request number 305, marsaxlokk\n",
      "Processing data for request number 306, itarema\n",
      "Processing data for request number 307, rondonopolis\n",
      "Processing data for request number 308, lorengau\n",
      "Processing data for request number 309, pangoa\n",
      "Processing data for request number 310, prince rupert\n",
      "Processing data for request number 311, bambanglipuro\n",
      "Processing data for request number 312, singaraja\n",
      "Processing data for request number 313, viedma\n",
      "Processing data for request number 314, locri\n",
      "Processing data for request number 315, kavaratti\n",
      "Processing data for request number 316, bambous virieux\n",
      "Processing data for request number 317, placerville\n",
      "Processing data for request number 318, baturaja\n",
      "Processing data for request number 319, luocheng\n",
      "Processing data for request number 320, kavieng\n",
      "Processing data for request number 321, nome\n",
      "City information not available, skipping to next city\n",
      "Processing data for request number 323, milkovo\n",
      "Processing data for request number 324, saldanha\n",
      "Processing data for request number 325, saint-philippe\n",
      "Processing data for request number 326, tzucacab\n",
      "Processing data for request number 327, talcahuano\n",
      "Processing data for request number 328, la peca\n",
      "Processing data for request number 329, savannah\n",
      "Processing data for request number 330, saint george\n",
      "Processing data for request number 331, labuhan\n"
     ]
    },
    {
     "name": "stdout",
     "output_type": "stream",
     "text": [
      "City information not available, skipping to next city\n",
      "Processing data for request number 333, robe\n",
      "Processing data for request number 334, jackson\n",
      "Processing data for request number 335, luderitz\n",
      "Processing data for request number 336, buchanan\n",
      "Processing data for request number 337, batman\n",
      "Processing data for request number 338, san cristobal\n",
      "Processing data for request number 339, petropavlovsk-kamchatskiy\n",
      "Processing data for request number 340, sorong\n",
      "Processing data for request number 341, samarai\n",
      "Processing data for request number 342, riyadh\n",
      "Processing data for request number 343, bocanda\n",
      "Processing data for request number 344, kisangani\n",
      "Processing data for request number 345, paso del macho\n",
      "Processing data for request number 346, hofn\n",
      "Processing data for request number 347, buturlinovka\n",
      "Processing data for request number 348, praia da vitoria\n",
      "Processing data for request number 349, conakry\n",
      "Processing data for request number 350, cap malheureux\n",
      "Processing data for request number 351, sotouboua\n",
      "Processing data for request number 352, baijiantan\n",
      "Processing data for request number 353, severo-yeniseyskiy\n",
      "Processing data for request number 354, fayaoue\n",
      "Processing data for request number 355, sivaki\n",
      "Processing data for request number 356, ostrovnoy\n",
      "Processing data for request number 357, nikolskoye\n",
      "Processing data for request number 358, dali\n",
      "Processing data for request number 359, pevek\n",
      "Processing data for request number 360, issenye\n",
      "Processing data for request number 361, mabaruma\n",
      "Processing data for request number 362, necochea\n",
      "Processing data for request number 363, zhanaozen\n",
      "Processing data for request number 364, ambilobe\n",
      "City information not available, skipping to next city\n",
      "Processing data for request number 366, imbituba\n",
      "Processing data for request number 367, suntar\n",
      "Processing data for request number 368, jalu\n",
      "Processing data for request number 369, churapcha\n",
      "Processing data for request number 370, hasaki\n",
      "Processing data for request number 371, bidar\n",
      "Processing data for request number 372, helong\n",
      "Processing data for request number 373, poum\n",
      "Processing data for request number 374, vestmanna\n",
      "Processing data for request number 375, souillac\n",
      "Processing data for request number 376, wanning\n",
      "Processing data for request number 377, kalabo\n",
      "Processing data for request number 378, peterhead\n",
      "Processing data for request number 379, dickinson\n",
      "Processing data for request number 380, kajaani\n",
      "City information not available, skipping to next city\n",
      "Processing data for request number 382, sobolevo\n",
      "Processing data for request number 383, turayf\n",
      "Processing data for request number 384, khani\n",
      "Processing data for request number 385, cabedelo\n",
      "Processing data for request number 386, lashio\n",
      "Processing data for request number 387, listowel\n",
      "City information not available, skipping to next city\n",
      "Processing data for request number 389, quatre cocos\n",
      "Processing data for request number 390, limpapa\n",
      "Processing data for request number 391, guozhen\n",
      "Processing data for request number 392, cayenne\n",
      "Processing data for request number 393, lovozero\n",
      "Processing data for request number 394, saint anthony\n",
      "Processing data for request number 395, inhambane\n",
      "Processing data for request number 396, otradnoye\n",
      "Processing data for request number 397, peruibe\n",
      "Processing data for request number 398, puerto carreno\n",
      "Processing data for request number 399, wau\n",
      "Processing data for request number 400, ponta do sol\n",
      "Processing data for request number 401, goya\n",
      "Processing data for request number 402, porto belo\n",
      "Processing data for request number 403, wukari\n",
      "Processing data for request number 404, klyuchi\n",
      "Processing data for request number 405, axim\n",
      "Processing data for request number 406, wangqing\n",
      "City information not available, skipping to next city\n",
      "Processing data for request number 408, la asuncion\n",
      "Processing data for request number 409, vytegra\n",
      "Processing data for request number 410, kloulklubed\n",
      "Processing data for request number 411, ipira\n",
      "Processing data for request number 412, mitrofanovka\n",
      "Processing data for request number 413, drochia\n",
      "Processing data for request number 414, evensk\n",
      "Processing data for request number 415, lompoc\n",
      "Processing data for request number 416, hamilton\n",
      "Processing data for request number 417, dingle\n",
      "Processing data for request number 418, lafia\n",
      "Processing data for request number 419, san juan\n",
      "Processing data for request number 420, karratha\n",
      "Processing data for request number 421, szprotawa\n",
      "Processing data for request number 422, chiredzi\n",
      "Processing data for request number 423, japura\n",
      "City information not available, skipping to next city\n",
      "Processing data for request number 425, barcelona\n",
      "Processing data for request number 426, plavinas\n",
      "Processing data for request number 427, la ronge\n",
      "Processing data for request number 428, presidencia roque saenz pena\n",
      "Processing data for request number 429, bengkulu\n",
      "Processing data for request number 430, niono\n",
      "City information not available, skipping to next city\n",
      "Processing data for request number 432, djambala\n",
      "Processing data for request number 433, maningrida\n",
      "Processing data for request number 434, pimenta bueno\n",
      "Processing data for request number 435, vagur\n",
      "Processing data for request number 436, pangnirtung\n",
      "Processing data for request number 437, itupiranga\n",
      "Processing data for request number 438, medea\n",
      "Processing data for request number 439, vikhorevka\n",
      "Processing data for request number 440, pacific grove\n",
      "Processing data for request number 441, nyurba\n",
      "City information not available, skipping to next city\n",
      "City information not available, skipping to next city\n",
      "Processing data for request number 444, conde\n",
      "Processing data for request number 445, port hardy\n",
      "Processing data for request number 446, flinders\n",
      "Processing data for request number 447, kruisfontein\n",
      "Processing data for request number 448, alice springs\n",
      "Processing data for request number 449, tupik\n",
      "Processing data for request number 450, oistins\n",
      "Processing data for request number 451, khakhea\n",
      "Processing data for request number 452, kaitangata\n",
      "Processing data for request number 453, ust-nera\n",
      "Processing data for request number 454, duluth\n",
      "Processing data for request number 455, huanren\n",
      "City information not available, skipping to next city\n",
      "Processing data for request number 457, kidal\n",
      "Processing data for request number 458, mattru\n",
      "Processing data for request number 459, inzhavino\n",
      "Processing data for request number 460, genhe\n",
      "Processing data for request number 461, brooks\n",
      "Processing data for request number 462, pathein\n",
      "Processing data for request number 463, camabatela\n",
      "Processing data for request number 464, san matias\n",
      "Processing data for request number 465, lasa\n",
      "Processing data for request number 466, mweka\n",
      "Processing data for request number 467, san buenaventura\n",
      "Processing data for request number 468, yancheng\n",
      "Processing data for request number 469, ashington\n",
      "Processing data for request number 470, swan river\n",
      "Processing data for request number 471, yining\n",
      "Processing data for request number 472, abu samrah\n",
      "Processing data for request number 473, havelock\n",
      "Processing data for request number 474, hobyo\n",
      "Processing data for request number 475, biak\n",
      "Processing data for request number 476, lenger\n",
      "Processing data for request number 477, curup\n",
      "Processing data for request number 478, sikandarpur\n",
      "Processing data for request number 479, burnie\n",
      "Processing data for request number 480, hilton head island\n",
      "Processing data for request number 481, palazzolo acreide\n",
      "Processing data for request number 482, rio gallegos\n",
      "Processing data for request number 483, anadyr\n",
      "Processing data for request number 484, pombia\n",
      "Processing data for request number 485, muana\n",
      "Processing data for request number 486, north myrtle beach\n",
      "Processing data for request number 487, malishka\n",
      "City information not available, skipping to next city\n",
      "Processing data for request number 489, kwinana\n",
      "Processing data for request number 490, dhidhdhoo\n",
      "Processing data for request number 491, lutz\n",
      "Processing data for request number 492, alta floresta\n",
      "Processing data for request number 493, ust-maya\n",
      "Processing data for request number 494, troyes\n",
      "Processing data for request number 495, camacha\n",
      "Processing data for request number 496, omboue\n",
      "Processing data for request number 497, karatau\n"
     ]
    },
    {
     "name": "stdout",
     "output_type": "stream",
     "text": [
      "Processing data for request number 498, saint-louis\n",
      "Processing data for request number 499, hukay\n",
      "Processing data for request number 500, teplyk\n",
      "Processing data for request number 501, sibu\n",
      "Processing data for request number 502, bathsheba\n",
      "Processing data for request number 503, henties bay\n",
      "City information not available, skipping to next city\n",
      "Processing data for request number 505, ludhiana\n",
      "Processing data for request number 506, ayan\n",
      "Processing data for request number 507, palestine\n",
      "Processing data for request number 508, ballina\n",
      "Processing data for request number 509, ust-kuyga\n",
      "Processing data for request number 510, bilibino\n",
      "Processing data for request number 511, dakar\n",
      "City information not available, skipping to next city\n",
      "City information not available, skipping to next city\n",
      "Processing data for request number 514, linxia\n",
      "Processing data for request number 515, ziro\n",
      "Processing data for request number 516, bacolod\n",
      "Processing data for request number 517, lavrentiya\n",
      "Processing data for request number 518, resistencia\n",
      "Processing data for request number 519, roebourne\n",
      "Processing data for request number 520, port-cartier\n",
      "Processing data for request number 521, bangassou\n",
      "Processing data for request number 522, tromso\n",
      "Processing data for request number 523, sao jose da coroa grande\n",
      "City information not available, skipping to next city\n",
      "Processing data for request number 525, pontianak\n",
      "Processing data for request number 526, concarneau\n",
      "Processing data for request number 527, kortkeros\n",
      "Processing data for request number 528, neiafu\n",
      "Processing data for request number 529, marawi\n",
      "City information not available, skipping to next city\n",
      "Processing data for request number 531, beira\n",
      "City information not available, skipping to next city\n",
      "Processing data for request number 533, kilindoni\n",
      "Processing data for request number 534, tezu\n",
      "City information not available, skipping to next city\n",
      "Processing data for request number 536, komsomolskiy\n",
      "Processing data for request number 537, kununurra\n",
      "Processing data for request number 538, abha\n",
      "Processing data for request number 539, broome\n",
      "Processing data for request number 540, chuy\n",
      "Processing data for request number 541, ushtobe\n",
      "Processing data for request number 542, elliot lake\n",
      "Processing data for request number 543, santa cruz cabralia\n",
      "City information not available, skipping to next city\n",
      "Processing data for request number 545, kargil\n",
      "Processing data for request number 546, agua verde\n",
      "Processing data for request number 547, kamaishi\n",
      "Processing data for request number 548, sakakah\n",
      "Processing data for request number 549, moyo\n",
      "Processing data for request number 550, torres\n",
      "Processing data for request number 551, swift current\n",
      "Processing data for request number 552, saint stephen\n",
      "Processing data for request number 553, jos\n",
      "Processing data for request number 554, pangkalanbuun\n",
      "Processing data for request number 555, savannakhet\n",
      "City information not available, skipping to next city\n",
      "City information not available, skipping to next city\n",
      "Processing data for request number 558, tilichiki\n",
      "City information not available, skipping to next city\n",
      "Processing data for request number 560, vao\n",
      "Processing data for request number 561, emba\n",
      "Processing data for request number 562, blagoyevo\n",
      "Processing data for request number 563, gamba\n",
      "City information not available, skipping to next city\n",
      "Processing data for request number 565, saint-augustin\n",
      "Processing data for request number 566, oleksandrivka\n",
      "Processing data for request number 567, gonbad-e qabus\n",
      "Processing data for request number 568, hammerfest\n",
      "Processing data for request number 569, show low\n",
      "Processing data for request number 570, ereymentau\n",
      "Processing data for request number 571, shakawe\n",
      "Processing data for request number 572, salinas\n",
      "Processing data for request number 573, lagoa\n",
      "Processing data for request number 574, chapais\n",
      "Processing data for request number 575, paamiut\n",
      "Processing data for request number 576, beringovskiy\n",
      "Processing data for request number 577, aracati\n",
      "Processing data for request number 578, poya\n",
      "Processing data for request number 579, hirado\n",
      "Processing data for request number 580, nouadhibou\n",
      "Processing data for request number 581, batagay-alyta\n",
      "Processing data for request number 582, villa del rosario\n",
      "Processing data for request number 583, bulawayo\n",
      "Processing data for request number 584, sandwick\n",
      "Processing data for request number 585, ipameri\n",
      "Processing data for request number 586, yarada\n",
      "Processing data for request number 587, palmito\n",
      "Processing data for request number 588, uruacu\n"
     ]
    }
   ],
   "source": [
    "url =\"http://api.openweathermap.org/data/2.5/weather?\"\n",
    "units = \"imperial\"\n",
    "query_url = f\"{url}appid={weather_api_key}&units={units}&q=\"\n",
    "count = 0\n",
    "weather_dicty = { \"City\" : [], \"Lat\" : [], \"Lng\" : [], \"Max Temp\" : [], \"Humidity\" : [], \"Cloudiness\" : [],\n",
    "                \"Wind Speed\" : [], \"Country\" : [], \"Date\" : []}\n",
    "print(\"Beginning Data Retrieval\")\n",
    "print(\"------------------------\")\n",
    "for city in cities:\n",
    "    count += 1 \n",
    "    try:\n",
    "        response = requests.get(query_url + city).json()\n",
    "        weather_dicty[\"City\"].append(response[\"name\"])\n",
    "        weather_dicty[\"Lat\"].append(response[\"coord\"][\"lat\"])\n",
    "        weather_dicty[\"Lng\"].append(response[\"coord\"][\"lon\"])\n",
    "        weather_dicty[\"Max Temp\"].append(response[\"main\"][\"temp_max\"])\n",
    "        weather_dicty[\"Humidity\"].append(response[\"main\"][\"humidity\"])\n",
    "        weather_dicty[\"Cloudiness\"].append(response[\"clouds\"][\"all\"])\n",
    "        weather_dicty[\"Wind Speed\"].append(response[\"wind\"][\"speed\"])\n",
    "        weather_dicty[\"Country\"].append(response[\"sys\"][\"country\"])\n",
    "        weather_dicty[\"Date\"].append(response[\"dt\"])\n",
    "        print(f\"Processing data for request number {count}, {city}\")\n",
    "    except KeyError: \n",
    "        print(\"City information not available, skipping to next city\")\n",
    "print(\"-----------------------\")\n",
    "print(\"Data Retrieval Complete\")"
   ]
  },
  {
   "cell_type": "markdown",
   "metadata": {},
   "source": [
    "### Convert Raw Data to DataFrame\n",
    "* Export the city data into a .csv.\n",
    "* Display the DataFrame"
   ]
  },
  {
   "cell_type": "code",
   "execution_count": 26,
   "metadata": {},
   "outputs": [
    {
     "data": {
      "text/html": [
       "<div>\n",
       "<style scoped>\n",
       "    .dataframe tbody tr th:only-of-type {\n",
       "        vertical-align: middle;\n",
       "    }\n",
       "\n",
       "    .dataframe tbody tr th {\n",
       "        vertical-align: top;\n",
       "    }\n",
       "\n",
       "    .dataframe thead th {\n",
       "        text-align: right;\n",
       "    }\n",
       "</style>\n",
       "<table border=\"1\" class=\"dataframe\">\n",
       "  <thead>\n",
       "    <tr style=\"text-align: right;\">\n",
       "      <th></th>\n",
       "      <th>City</th>\n",
       "      <th>Lat</th>\n",
       "      <th>Lng</th>\n",
       "      <th>Max Temp</th>\n",
       "      <th>Humidity</th>\n",
       "      <th>Cloudiness</th>\n",
       "      <th>Wind Speed</th>\n",
       "      <th>Country</th>\n",
       "      <th>Date</th>\n",
       "    </tr>\n",
       "  </thead>\n",
       "  <tbody>\n",
       "    <tr>\n",
       "      <th>0</th>\n",
       "      <td>Blacksburg</td>\n",
       "      <td>37.23</td>\n",
       "      <td>-80.41</td>\n",
       "      <td>46.40</td>\n",
       "      <td>65</td>\n",
       "      <td>90</td>\n",
       "      <td>12.75</td>\n",
       "      <td>US</td>\n",
       "      <td>1604098792</td>\n",
       "    </tr>\n",
       "    <tr>\n",
       "      <th>1</th>\n",
       "      <td>Torbay</td>\n",
       "      <td>47.67</td>\n",
       "      <td>-52.73</td>\n",
       "      <td>36.00</td>\n",
       "      <td>59</td>\n",
       "      <td>75</td>\n",
       "      <td>17.22</td>\n",
       "      <td>CA</td>\n",
       "      <td>1604098749</td>\n",
       "    </tr>\n",
       "    <tr>\n",
       "      <th>2</th>\n",
       "      <td>Hobart</td>\n",
       "      <td>-42.88</td>\n",
       "      <td>147.33</td>\n",
       "      <td>62.01</td>\n",
       "      <td>67</td>\n",
       "      <td>20</td>\n",
       "      <td>6.93</td>\n",
       "      <td>AU</td>\n",
       "      <td>1604098641</td>\n",
       "    </tr>\n",
       "    <tr>\n",
       "      <th>3</th>\n",
       "      <td>Albany</td>\n",
       "      <td>42.60</td>\n",
       "      <td>-73.97</td>\n",
       "      <td>33.01</td>\n",
       "      <td>88</td>\n",
       "      <td>79</td>\n",
       "      <td>3.29</td>\n",
       "      <td>US</td>\n",
       "      <td>1604098678</td>\n",
       "    </tr>\n",
       "    <tr>\n",
       "      <th>4</th>\n",
       "      <td>Portland</td>\n",
       "      <td>45.52</td>\n",
       "      <td>-122.68</td>\n",
       "      <td>62.01</td>\n",
       "      <td>63</td>\n",
       "      <td>75</td>\n",
       "      <td>5.82</td>\n",
       "      <td>US</td>\n",
       "      <td>1604098449</td>\n",
       "    </tr>\n",
       "  </tbody>\n",
       "</table>\n",
       "</div>"
      ],
      "text/plain": [
       "         City    Lat     Lng  Max Temp  Humidity  Cloudiness  Wind Speed  \\\n",
       "0  Blacksburg  37.23  -80.41     46.40        65          90       12.75   \n",
       "1      Torbay  47.67  -52.73     36.00        59          75       17.22   \n",
       "2      Hobart -42.88  147.33     62.01        67          20        6.93   \n",
       "3      Albany  42.60  -73.97     33.01        88          79        3.29   \n",
       "4    Portland  45.52 -122.68     62.01        63          75        5.82   \n",
       "\n",
       "  Country        Date  \n",
       "0      US  1604098792  \n",
       "1      CA  1604098749  \n",
       "2      AU  1604098641  \n",
       "3      US  1604098678  \n",
       "4      US  1604098449  "
      ]
     },
     "execution_count": 26,
     "metadata": {},
     "output_type": "execute_result"
    }
   ],
   "source": [
    "weather_data = pd.DataFrame(weather_dicty)\n",
    "weather_data.to_csv(output_data_file)\n",
    "weather_data.head()"
   ]
  },
  {
   "cell_type": "markdown",
   "metadata": {},
   "source": [
    "## Inspect the data and remove the cities where the humidity > 100%.\n",
    "----\n",
    "Skip this step if there are no cities that have humidity > 100%. "
   ]
  },
  {
   "cell_type": "code",
   "execution_count": 10,
   "metadata": {},
   "outputs": [
    {
     "data": {
      "text/html": [
       "<div>\n",
       "<style scoped>\n",
       "    .dataframe tbody tr th:only-of-type {\n",
       "        vertical-align: middle;\n",
       "    }\n",
       "\n",
       "    .dataframe tbody tr th {\n",
       "        vertical-align: top;\n",
       "    }\n",
       "\n",
       "    .dataframe thead th {\n",
       "        text-align: right;\n",
       "    }\n",
       "</style>\n",
       "<table border=\"1\" class=\"dataframe\">\n",
       "  <thead>\n",
       "    <tr style=\"text-align: right;\">\n",
       "      <th></th>\n",
       "      <th>Lat</th>\n",
       "      <th>Lng</th>\n",
       "      <th>Max Temp</th>\n",
       "      <th>Humidity</th>\n",
       "      <th>Cloudiness</th>\n",
       "      <th>Wind Speed</th>\n",
       "      <th>Date</th>\n",
       "    </tr>\n",
       "  </thead>\n",
       "  <tbody>\n",
       "    <tr>\n",
       "      <th>count</th>\n",
       "      <td>537.000000</td>\n",
       "      <td>537.000000</td>\n",
       "      <td>537.000000</td>\n",
       "      <td>537.000000</td>\n",
       "      <td>537.000000</td>\n",
       "      <td>537.000000</td>\n",
       "      <td>5.370000e+02</td>\n",
       "    </tr>\n",
       "    <tr>\n",
       "      <th>mean</th>\n",
       "      <td>19.021844</td>\n",
       "      <td>16.849460</td>\n",
       "      <td>57.723222</td>\n",
       "      <td>73.646182</td>\n",
       "      <td>52.791434</td>\n",
       "      <td>7.825847</td>\n",
       "      <td>1.604099e+09</td>\n",
       "    </tr>\n",
       "    <tr>\n",
       "      <th>std</th>\n",
       "      <td>33.488682</td>\n",
       "      <td>88.466114</td>\n",
       "      <td>21.900881</td>\n",
       "      <td>20.284947</td>\n",
       "      <td>39.329754</td>\n",
       "      <td>5.988088</td>\n",
       "      <td>9.976733e+01</td>\n",
       "    </tr>\n",
       "    <tr>\n",
       "      <th>min</th>\n",
       "      <td>-54.800000</td>\n",
       "      <td>-179.170000</td>\n",
       "      <td>-11.420000</td>\n",
       "      <td>12.000000</td>\n",
       "      <td>0.000000</td>\n",
       "      <td>0.670000</td>\n",
       "      <td>1.604098e+09</td>\n",
       "    </tr>\n",
       "    <tr>\n",
       "      <th>25%</th>\n",
       "      <td>-8.120000</td>\n",
       "      <td>-58.740000</td>\n",
       "      <td>45.860000</td>\n",
       "      <td>63.000000</td>\n",
       "      <td>6.000000</td>\n",
       "      <td>3.360000</td>\n",
       "      <td>1.604099e+09</td>\n",
       "    </tr>\n",
       "    <tr>\n",
       "      <th>50%</th>\n",
       "      <td>22.290000</td>\n",
       "      <td>18.210000</td>\n",
       "      <td>64.000000</td>\n",
       "      <td>79.000000</td>\n",
       "      <td>63.000000</td>\n",
       "      <td>6.110000</td>\n",
       "      <td>1.604099e+09</td>\n",
       "    </tr>\n",
       "    <tr>\n",
       "      <th>75%</th>\n",
       "      <td>46.620000</td>\n",
       "      <td>88.400000</td>\n",
       "      <td>75.240000</td>\n",
       "      <td>90.000000</td>\n",
       "      <td>90.000000</td>\n",
       "      <td>10.290000</td>\n",
       "      <td>1.604099e+09</td>\n",
       "    </tr>\n",
       "    <tr>\n",
       "      <th>max</th>\n",
       "      <td>78.220000</td>\n",
       "      <td>179.320000</td>\n",
       "      <td>88.920000</td>\n",
       "      <td>100.000000</td>\n",
       "      <td>100.000000</td>\n",
       "      <td>34.450000</td>\n",
       "      <td>1.604099e+09</td>\n",
       "    </tr>\n",
       "  </tbody>\n",
       "</table>\n",
       "</div>"
      ],
      "text/plain": [
       "              Lat         Lng    Max Temp    Humidity  Cloudiness  Wind Speed  \\\n",
       "count  537.000000  537.000000  537.000000  537.000000  537.000000  537.000000   \n",
       "mean    19.021844   16.849460   57.723222   73.646182   52.791434    7.825847   \n",
       "std     33.488682   88.466114   21.900881   20.284947   39.329754    5.988088   \n",
       "min    -54.800000 -179.170000  -11.420000   12.000000    0.000000    0.670000   \n",
       "25%     -8.120000  -58.740000   45.860000   63.000000    6.000000    3.360000   \n",
       "50%     22.290000   18.210000   64.000000   79.000000   63.000000    6.110000   \n",
       "75%     46.620000   88.400000   75.240000   90.000000   90.000000   10.290000   \n",
       "max     78.220000  179.320000   88.920000  100.000000  100.000000   34.450000   \n",
       "\n",
       "               Date  \n",
       "count  5.370000e+02  \n",
       "mean   1.604099e+09  \n",
       "std    9.976733e+01  \n",
       "min    1.604098e+09  \n",
       "25%    1.604099e+09  \n",
       "50%    1.604099e+09  \n",
       "75%    1.604099e+09  \n",
       "max    1.604099e+09  "
      ]
     },
     "execution_count": 10,
     "metadata": {},
     "output_type": "execute_result"
    }
   ],
   "source": [
    "weather_data.describe()"
   ]
  },
  {
   "cell_type": "code",
   "execution_count": 11,
   "metadata": {},
   "outputs": [
    {
     "data": {
      "text/plain": [
       "0"
      ]
     },
     "execution_count": 11,
     "metadata": {},
     "output_type": "execute_result"
    }
   ],
   "source": [
    "outlier_counts = len(weather_data[weather_data[\"Humidity\"] > 100])\n",
    "outlier_counts"
   ]
  },
  {
   "cell_type": "code",
   "execution_count": 12,
   "metadata": {},
   "outputs": [],
   "source": [
    "#  Get the indices of cities that have humidity over 100%.\n"
   ]
  },
  {
   "cell_type": "code",
   "execution_count": 13,
   "metadata": {},
   "outputs": [],
   "source": [
    "# Make a new DataFrame equal to the city data to drop all humidity outliers by index.\n",
    "# Passing \"inplace=False\" will make a copy of the city_data DataFrame, which we call \"clean_city_data\".\n"
   ]
  },
  {
   "cell_type": "markdown",
   "metadata": {},
   "source": [
    "## Plotting the Data\n",
    "* Use proper labeling of the plots using plot titles (including date of analysis) and axes labels.\n",
    "* Save the plotted figures as .pngs."
   ]
  },
  {
   "cell_type": "markdown",
   "metadata": {},
   "source": [
    "## Latitude vs. Temperature Plot"
   ]
  },
  {
   "cell_type": "code",
   "execution_count": 17,
   "metadata": {
    "scrolled": true
   },
   "outputs": [
    {
     "data": {
      "image/png": "[encoded data removed]",
      "text/plain": [
       "<Figure size 432x288 with 1 Axes>"
      ]
     },
     "metadata": {
      "needs_background": "light"
     },
     "output_type": "display_data"
    }
   ],
   "source": [
    "x_values = weather_data['Lat']\n",
    "y_values = weather_data['Max Temp']\n",
    "plt.scatter(x_values,y_values)\n",
    "plt.xlabel('Latitude')\n",
    "plt.ylabel('Temperature')\n",
    "plt.title('City Latitude Vs Max Temperature 10/30/20')\n",
    "plt.show()"
   ]
  },
  {
   "cell_type": "markdown",
   "metadata": {},
   "source": [
    "## Latitude vs. Humidity Plot"
   ]
  },
  {
   "cell_type": "code",
   "execution_count": 18,
   "metadata": {},
   "outputs": [
    {
     "data": {
      "image/png": "[encoded data removed]",
      "text/plain": [
       "<Figure size 432x288 with 1 Axes>"
      ]
     },
     "metadata": {
      "needs_background": "light"
     },
     "output_type": "display_data"
    }
   ],
   "source": [
    "x_values = weather_data['Lat']\n",
    "y_values = weather_data['Humidity']\n",
    "plt.scatter(x_values,y_values)\n",
    "plt.xlabel('Latitude')\n",
    "plt.ylabel('Humidity')\n",
    "plt.title('City Latitude Vs Humidity 10/30/20')\n",
    "plt.show()"
   ]
  },
  {
   "cell_type": "markdown",
   "metadata": {},
   "source": [
    "## Latitude vs. Cloudiness Plot"
   ]
  },
  {
   "cell_type": "code",
   "execution_count": 19,
   "metadata": {},
   "outputs": [
    {
     "data": {
      "image/png": "[encoded data removed]",
      "text/plain": [
       "<Figure size 432x288 with 1 Axes>"
      ]
     },
     "metadata": {
      "needs_background": "light"
     },
     "output_type": "display_data"
    }
   ],
   "source": [
    "x_values = weather_data['Lat']\n",
    "y_values = weather_data['Cloudiness']\n",
    "plt.scatter(x_values,y_values)\n",
    "plt.xlabel('Latitude')\n",
    "plt.ylabel('Cloudiness')\n",
    "plt.title('City Latitude Vs Cloudiness 10/30/20')\n",
    "plt.show()"
   ]
  },
  {
   "cell_type": "markdown",
   "metadata": {},
   "source": [
    "## Latitude vs. Wind Speed Plot"
   ]
  },
  {
   "cell_type": "code",
   "execution_count": 20,
   "metadata": {},
   "outputs": [
    {
     "data": {
      "image/png": "[encoded data removed]",
      "text/plain": [
       "<Figure size 432x288 with 1 Axes>"
      ]
     },
     "metadata": {
      "needs_background": "light"
     },
     "output_type": "display_data"
    }
   ],
   "source": [
    "x_values = weather_data['Lat']\n",
    "y_values = weather_data['Wind Speed']\n",
    "plt.scatter(x_values,y_values)\n",
    "plt.xlabel('Latitude')\n",
    "plt.ylabel('Wind Speed')\n",
    "plt.title('City Latitude Vs Wind Speed 10/30/20')\n",
    "plt.show()"
   ]
  },
  {
   "cell_type": "markdown",
   "metadata": {},
   "source": [
    "## Linear Regression"
   ]
  },
  {
   "cell_type": "code",
   "execution_count": 27,
   "metadata": {},
   "outputs": [],
   "source": [
    "northern_hem_data = weather_data[weather_data[\"Lat\"] >= 0 ]\n",
    "southern_hem_data = weather_data[weather_data[\"Lat\"] < 0 ]"
   ]
  },
  {
   "cell_type": "markdown",
   "metadata": {},
   "source": [
    "####  Northern Hemisphere - Max Temp vs. Latitude Linear Regression"
   ]
  },
  {
   "cell_type": "code",
   "execution_count": 34,
   "metadata": {},
   "outputs": [
    {
     "name": "stdout",
     "output_type": "stream",
     "text": [
      "The r-value is: 0.7300346590798821\n"
     ]
    },
    {
     "data": {
      "image/png": "[encoded data removed]",
      "text/plain": [
       "<Figure size 432x288 with 1 Axes>"
      ]
     },
     "metadata": {
      "needs_background": "light"
     },
     "output_type": "display_data"
    }
   ],
   "source": [
    "x_values = northern_hem_data[\"Lat\"]\n",
    "y_values = northern_hem_data[\"Max Temp\"]\n",
    "plt.scatter(x_values, y_values)\n",
    "plt.xlabel('Latitude')\n",
    "plt.ylabel('Temperature')\n",
    "(slope, intercept, rvalue, pvalue, stderr) = linregress(x_values, y_values)\n",
    "regress_values = x_values * slope + intercept\n",
    "line_eq = \"y = \" + str(round(slope,2)) + \"x + \" + str(round(intercept,2))\n",
    "plt.plot(x_values,regress_values,\"r-\")\n",
    "plt.annotate(line_eq,(10,40),fontsize=15,color=\"red\")\n",
    "print(f\"The r-value is: {rvalue**2}\")"
   ]
  },
  {
   "cell_type": "code",
   "execution_count": 1,
   "metadata": {},
   "outputs": [
    {
     "name": "stdout",
     "output_type": "stream",
     "text": [
      "This linear regression model of latitude compared with max temperature in the Northern Hemisphere shows us that as latitude increases from 0, the temperature typically lowers.\n"
     ]
    }
   ],
   "source": [
    "print(f\"This linear regression model of latitude compared with max temperature in the Northern Hemisphere shows us that as latitude increases from 0, the temperature typically lowers.\")"
   ]
  },
  {
   "cell_type": "markdown",
   "metadata": {},
   "source": [
    "####  Southern Hemisphere - Max Temp vs. Latitude Linear Regression"
   ]
  },
  {
   "cell_type": "code",
   "execution_count": 37,
   "metadata": {},
   "outputs": [
    {
     "name": "stdout",
     "output_type": "stream",
     "text": [
      "The r-value is: 0.42937552129407675\n"
     ]
    },
    {
     "data": {
      "image/png": "[encoded data removed]",
      "text/plain": [
       "<Figure size 432x288 with 1 Axes>"
      ]
     },
     "metadata": {
      "needs_background": "light"
     },
     "output_type": "display_data"
    }
   ],
   "source": [
    "x_values = southern_hem_data[\"Lat\"]\n",
    "y_values = southern_hem_data[\"Max Temp\"]\n",
    "plt.scatter(x_values, y_values)\n",
    "plt.xlabel('Latitude')\n",
    "plt.ylabel('Temperature')\n",
    "(slope, intercept, rvalue, pvalue, stderr) = linregress(x_values, y_values)\n",
    "regress_values = x_values * slope + intercept\n",
    "line_eq = \"y = \" + str(round(slope,2)) + \"x + \" + str(round(intercept,2))\n",
    "plt.plot(x_values,regress_values,\"r-\")\n",
    "plt.annotate(line_eq,(10,40),fontsize=15,color=\"red\")\n",
    "print(f\"The r-value is: {rvalue**2}\")"
   ]
  },
  {
   "cell_type": "code",
   "execution_count": 2,
   "metadata": {},
   "outputs": [
    {
     "name": "stdout",
     "output_type": "stream",
     "text": [
      "This linear regression model of latitude compared with max temperature in the Southern Hemisphere shows us a wide variation of max temperatures across our range of latitudes. There is not a significant correlation between max tempature and latitude.\n"
     ]
    }
   ],
   "source": [
    "print(f\"This linear regression model of latitude compared with max temperature in the Southern Hemisphere shows us a wide variation of max temperatures across our range of latitudes. There is not a significant correlation between max tempature and latitude.\")"
   ]
  },
  {
   "cell_type": "markdown",
   "metadata": {},
   "source": [
    "####  Northern Hemisphere - Humidity (%) vs. Latitude Linear Regression"
   ]
  },
  {
   "cell_type": "code",
   "execution_count": 33,
   "metadata": {},
   "outputs": [
    {
     "name": "stdout",
     "output_type": "stream",
     "text": [
      "The r-value is: 0.05647331273323706\n"
     ]
    },
    {
     "data": {
      "image/png": "[encoded data removed]",
      "text/plain": [
       "<Figure size 432x288 with 1 Axes>"
      ]
     },
     "metadata": {
      "needs_background": "light"
     },
     "output_type": "display_data"
    }
   ],
   "source": [
    "x_values = northern_hem_data[\"Lat\"]\n",
    "y_values = northern_hem_data[\"Humidity\"]\n",
    "plt.scatter(x_values, y_values)\n",
    "plt.xlabel('Latitude')\n",
    "plt.ylabel('Humidity')\n",
    "(slope, intercept, rvalue, pvalue, stderr) = linregress(x_values, y_values)\n",
    "regress_values = x_values * slope + intercept\n",
    "line_eq = \"y = \" + str(round(slope,2)) + \"x + \" + str(round(intercept,2))\n",
    "plt.plot(x_values,regress_values,\"r-\")\n",
    "plt.annotate(line_eq,(10,40),fontsize=15,color=\"red\")\n",
    "print(f\"The r-value is: {rvalue**2}\")"
   ]
  },
  {
   "cell_type": "code",
   "execution_count": 4,
   "metadata": {},
   "outputs": [
    {
     "name": "stdout",
     "output_type": "stream",
     "text": [
      "This linear regression model of latitude compared with humidity in the Northern Hemisphere does not show any correlation between the two variables.\n"
     ]
    }
   ],
   "source": [
    "print(f\"This linear regression model of latitude compared with humidity in the Northern Hemisphere does not show any correlation between the two variables.\")"
   ]
  },
  {
   "cell_type": "markdown",
   "metadata": {},
   "source": [
    "####  Southern Hemisphere - Humidity (%) vs. Latitude Linear Regression"
   ]
  },
  {
   "cell_type": "code",
   "execution_count": 38,
   "metadata": {},
   "outputs": [
    {
     "name": "stdout",
     "output_type": "stream",
     "text": [
      "The r-value is: 0.07803184021920036\n"
     ]
    },
    {
     "data": {
      "image/png": "[encoded data removed]",
      "text/plain": [
       "<Figure size 432x288 with 1 Axes>"
      ]
     },
     "metadata": {
      "needs_background": "light"
     },
     "output_type": "display_data"
    }
   ],
   "source": [
    "x_values = southern_hem_data[\"Lat\"]\n",
    "y_values = southern_hem_data[\"Humidity\"]\n",
    "plt.scatter(x_values, y_values)\n",
    "plt.xlabel('Latitude')\n",
    "plt.ylabel('Humidity')\n",
    "(slope, intercept, rvalue, pvalue, stderr) = linregress(x_values, y_values)\n",
    "regress_values = x_values * slope + intercept\n",
    "line_eq = \"y = \" + str(round(slope,2)) + \"x + \" + str(round(intercept,2))\n",
    "plt.plot(x_values,regress_values,\"r-\")\n",
    "plt.annotate(line_eq,(10,40),fontsize=15,color=\"red\")\n",
    "print(f\"The r-value is: {rvalue**2}\")"
   ]
  },
  {
   "cell_type": "code",
   "execution_count": 6,
   "metadata": {},
   "outputs": [
    {
     "name": "stdout",
     "output_type": "stream",
     "text": [
      "This linear regression model of latitude compared with humidity in the Southern Hemisphere does not show any correlation between the two variables.\n"
     ]
    }
   ],
   "source": [
    "print(f\"This linear regression model of latitude compared with humidity in the Southern Hemisphere does not show any correlation between the two variables.\")"
   ]
  },
  {
   "cell_type": "markdown",
   "metadata": {},
   "source": [
    "####  Northern Hemisphere - Cloudiness (%) vs. Latitude Linear Regression"
   ]
  },
  {
   "cell_type": "code",
   "execution_count": 35,
   "metadata": {},
   "outputs": [
    {
     "name": "stdout",
     "output_type": "stream",
     "text": [
      "The r-value is: 0.02011319817349726\n"
     ]
    },
    {
     "data": {
      "image/png": "[encoded data removed]",
      "text/plain": [
       "<Figure size 432x288 with 1 Axes>"
      ]
     },
     "metadata": {
      "needs_background": "light"
     },
     "output_type": "display_data"
    }
   ],
   "source": [
    "x_values = northern_hem_data[\"Lat\"]\n",
    "y_values = northern_hem_data[\"Cloudiness\"]\n",
    "plt.scatter(x_values, y_values)\n",
    "plt.xlabel('Latitude')\n",
    "plt.ylabel('Cloudiness')\n",
    "(slope, intercept, rvalue, pvalue, stderr) = linregress(x_values, y_values)\n",
    "regress_values = x_values * slope + intercept\n",
    "line_eq = \"y = \" + str(round(slope,2)) + \"x + \" + str(round(intercept,2))\n",
    "plt.plot(x_values,regress_values,\"r-\")\n",
    "plt.annotate(line_eq,(10,40),fontsize=15,color=\"red\")\n",
    "print(f\"The r-value is: {rvalue**2}\")"
   ]
  },
  {
   "cell_type": "code",
   "execution_count": 9,
   "metadata": {},
   "outputs": [
    {
     "name": "stdout",
     "output_type": "stream",
     "text": [
      "This linear regression model of latitude compared with cloudiness in the Northern Hemisphere does not show any correlation between the two variables.\n"
     ]
    }
   ],
   "source": [
    "print(f\"This linear regression model of latitude compared with cloudiness in the Northern Hemisphere does not show any correlation between the two variables.\")"
   ]
  },
  {
   "cell_type": "markdown",
   "metadata": {},
   "source": [
    "####  Southern Hemisphere - Cloudiness (%) vs. Latitude Linear Regression"
   ]
  },
  {
   "cell_type": "code",
   "execution_count": 39,
   "metadata": {},
   "outputs": [
    {
     "name": "stdout",
     "output_type": "stream",
     "text": [
      "The r-value is: 0.04898904421983618\n"
     ]
    },
    {
     "data": {
      "image/png": "[encoded data removed]",
      "text/plain": [
       "<Figure size 432x288 with 1 Axes>"
      ]
     },
     "metadata": {
      "needs_background": "light"
     },
     "output_type": "display_data"
    }
   ],
   "source": [
    "x_values = southern_hem_data[\"Lat\"]\n",
    "y_values = southern_hem_data[\"Cloudiness\"]\n",
    "plt.scatter(x_values, y_values)\n",
    "plt.xlabel('Latitude')\n",
    "plt.ylabel('Cloudiness')\n",
    "(slope, intercept, rvalue, pvalue, stderr) = linregress(x_values, y_values)\n",
    "regress_values = x_values * slope + intercept\n",
    "line_eq = \"y = \" + str(round(slope,2)) + \"x + \" + str(round(intercept,2))\n",
    "plt.plot(x_values,regress_values,\"r-\")\n",
    "plt.annotate(line_eq,(10,40),fontsize=15,color=\"red\")\n",
    "print(f\"The r-value is: {rvalue**2}\")"
   ]
  },
  {
   "cell_type": "code",
   "execution_count": 10,
   "metadata": {},
   "outputs": [
    {
     "name": "stdout",
     "output_type": "stream",
     "text": [
      "This linear regression model of latitude compared with cloudiness in the Northern Hemisphere does not show any correlation between the two variables.\n"
     ]
    }
   ],
   "source": [
    "print(f\"This linear regression model of latitude compared with cloudiness in the Northern Hemisphere does not show any correlation between the two variables.\")"
   ]
  },
  {
   "cell_type": "markdown",
   "metadata": {},
   "source": [
    "####  Northern Hemisphere - Wind Speed (mph) vs. Latitude Linear Regression"
   ]
  },
  {
   "cell_type": "code",
   "execution_count": 36,
   "metadata": {},
   "outputs": [
    {
     "name": "stdout",
     "output_type": "stream",
     "text": [
      "The r-value is: 0.01452918201864988\n"
     ]
    },
    {
     "data": {
      "image/png": "[encoded data removed]",
      "text/plain": [
       "<Figure size 432x288 with 1 Axes>"
      ]
     },
     "metadata": {
      "needs_background": "light"
     },
     "output_type": "display_data"
    }
   ],
   "source": [
    "x_values = northern_hem_data[\"Lat\"]\n",
    "y_values = northern_hem_data[\"Wind Speed\"]\n",
    "plt.scatter(x_values, y_values)\n",
    "plt.xlabel('Latitude')\n",
    "plt.ylabel('Wind Speed')\n",
    "(slope, intercept, rvalue, pvalue, stderr) = linregress(x_values, y_values)\n",
    "regress_values = x_values * slope + intercept\n",
    "line_eq = \"y = \" + str(round(slope,2)) + \"x + \" + str(round(intercept,2))\n",
    "plt.plot(x_values,regress_values,\"r-\")\n",
    "plt.annotate(line_eq,(10,40),fontsize=15,color=\"red\")\n",
    "print(f\"The r-value is: {rvalue**2}\")"
   ]
  },
  {
   "cell_type": "code",
   "execution_count": 11,
   "metadata": {},
   "outputs": [
    {
     "name": "stdout",
     "output_type": "stream",
     "text": [
      "This linear regression model of latitude compared with wind speed in the Northern Hemisphere does not show any correlation between the two variables.\n"
     ]
    }
   ],
   "source": [
    "print(f\"This linear regression model of latitude compared with wind speed in the Northern Hemisphere does not show any correlation between the two variables.\")"
   ]
  },
  {
   "cell_type": "markdown",
   "metadata": {},
   "source": [
    "####  Southern Hemisphere - Wind Speed (mph) vs. Latitude Linear Regression"
   ]
  },
  {
   "cell_type": "code",
   "execution_count": 40,
   "metadata": {},
   "outputs": [
    {
     "name": "stdout",
     "output_type": "stream",
     "text": [
      "The r-value is: 0.101873827990925\n"
     ]
    },
    {
     "data": {
      "image/png": "[encoded data removed]",
      "text/plain": [
       "<Figure size 432x288 with 1 Axes>"
      ]
     },
     "metadata": {
      "needs_background": "light"
     },
     "output_type": "display_data"
    }
   ],
   "source": [
    "x_values = southern_hem_data[\"Lat\"]\n",
    "y_values = southern_hem_data[\"Wind Speed\"]\n",
    "plt.scatter(x_values, y_values)\n",
    "plt.xlabel('Latitude')\n",
    "plt.ylabel('Wind Speed')\n",
    "(slope, intercept, rvalue, pvalue, stderr) = linregress(x_values, y_values)\n",
    "regress_values = x_values * slope + intercept\n",
    "line_eq = \"y = \" + str(round(slope,2)) + \"x + \" + str(round(intercept,2))\n",
    "plt.plot(x_values,regress_values,\"r-\")\n",
    "plt.annotate(line_eq,(10,40),fontsize=15,color=\"red\")\n",
    "print(f\"The r-value is: {rvalue**2}\")"
   ]
  },
  {
   "cell_type": "code",
   "execution_count": 12,
   "metadata": {},
   "outputs": [
    {
     "name": "stdout",
     "output_type": "stream",
     "text": [
      "This linear regression model of latitude compared with wind speed in the Southern Hemisphere does not show any correlation between the two variables.\n"
     ]
    }
   ],
   "source": [
    "print(f\"This linear regression model of latitude compared with wind speed in the Southern Hemisphere does not show any correlation between the two variables.\")"
   ]
  }
 ],
 "metadata": {
  "anaconda-cloud": {},
  "kernel_info": {
   "name": "python3"
  },
  "kernelspec": {
   "display_name": "Python 3",
   "language": "python",
   "name": "python3"
  },
  "language_info": {
   "codemirror_mode": {
    "name": "ipython",
    "version": 3
   },
   "file_extension": ".py",
   "mimetype": "text/x-python",
   "name": "python",
   "nbconvert_exporter": "python",
   "pygments_lexer": "ipython3",
   "version": "3.6.12"
  },
  "latex_envs": {
   "LaTeX_envs_menu_present": true,
   "autoclose": false,
   "autocomplete": true,
   "bibliofile": "biblio.bib",
   "cite_by": "apalike",
   "current_citInitial": 1,
   "eqLabelWithNumbers": true,
   "eqNumInitial": 1,
   "hotkeys": {
    "equation": "Ctrl-E",
    "itemize": "Ctrl-I"
   },
   "labels_anchors": false,
   "latex_user_defs": false,
   "report_style_numbering": false,
   "user_envs_cfg": false
  },
  "nteract": {
   "version": "0.12.3"
  }
 },
 "nbformat": 4,
 "nbformat_minor": 2
}
