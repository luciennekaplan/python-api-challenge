{
 "cells": [
  {
   "cell_type": "markdown",
   "metadata": {},
   "source": [
    "# VacationPy\n",
    "----\n",
    "\n",
    "#### Note\n",
    "* Keep an eye on your API usage. Use https://developers.google.com/maps/reporting/gmp-reporting as reference for how to monitor your usage and billing.\n",
    "\n",
    "* Instructions have been included for each segment. You do not have to follow them exactly, but they are included to help you think through the steps."
   ]
  },
  {
   "cell_type": "code",
   "execution_count": 35,
   "metadata": {},
   "outputs": [],
   "source": [
    "# Dependencies and Setup\n",
    "import matplotlib.pyplot as plt\n",
    "import pandas as pd\n",
    "import numpy as np\n",
    "import requests\n",
    "import gmaps\n",
    "import os\n",
    "from pprint import pprint\n",
    "import json\n",
    "\n",
    "# Import API key\n",
    "from api_keys import g_key"
   ]
  },
  {
   "cell_type": "markdown",
   "metadata": {},
   "source": [
    "### Store Part I results into DataFrame\n",
    "* Load the csv exported in Part I to a DataFrame"
   ]
  },
  {
   "cell_type": "code",
   "execution_count": 2,
   "metadata": {},
   "outputs": [],
   "source": [
    "output_data = pd.read_csv(\"output_data/cities.csv\")\n",
    "dataframe = pd.DataFrame(output_data)\n",
    "clean_data = dataframe.drop(columns = [\"Unnamed: 0\"])"
   ]
  },
  {
   "cell_type": "code",
   "execution_count": 3,
   "metadata": {},
   "outputs": [
    {
     "data": {
      "text/plain": [
       "City           object\n",
       "Lat           float64\n",
       "Lng           float64\n",
       "Max Temp      float64\n",
       "Humidity        int64\n",
       "Cloudiness      int64\n",
       "Wind Speed    float64\n",
       "Country        object\n",
       "Date            int64\n",
       "dtype: object"
      ]
     },
     "execution_count": 3,
     "metadata": {},
     "output_type": "execute_result"
    }
   ],
   "source": [
    "drop_na = clean_data.dropna()\n",
    "drop_na.dtypes"
   ]
  },
  {
   "cell_type": "markdown",
   "metadata": {},
   "source": [
    "### Humidity Heatmap\n",
    "* Configure gmaps.\n",
    "* Use the Lat and Lng as locations and Humidity as the weight.\n",
    "* Add Heatmap layer to map."
   ]
  },
  {
   "cell_type": "code",
   "execution_count": 4,
   "metadata": {},
   "outputs": [],
   "source": [
    "gmaps.configure(api_key=g_key)"
   ]
  },
  {
   "cell_type": "code",
   "execution_count": 5,
   "metadata": {},
   "outputs": [
    {
     "data": {
      "application/vnd.jupyter.widget-view+json": {
       "model_id": "02c4d1abdbe540af8ab1de7b01fab18f",
       "version_major": 2,
       "version_minor": 0
      },
      "text/plain": [
       "Figure(layout=FigureLayout(height='420px'))"
      ]
     },
     "metadata": {},
     "output_type": "display_data"
    }
   ],
   "source": [
    "fig = gmaps.figure()\n",
    "locations = drop_na[[\"Lat\", \"Lng\"]].astype(float)\n",
    "humidity = drop_na[\"Humidity\"].astype(float)\n",
    "heat_layer = gmaps.heatmap_layer(\n",
    "    locations,\n",
    "    weights=humidity, \n",
    "    dissipating=False,\n",
    "    max_intensity=100,\n",
    "    point_radius = 1\n",
    ")\n",
    "\n",
    "fig.add_layer(heat_layer)\n",
    "fig"
   ]
  },
  {
   "cell_type": "markdown",
   "metadata": {},
   "source": [
    "### Create new DataFrame fitting weather criteria\n",
    "* Narrow down the cities to fit weather conditions.\n",
    "* Drop any rows will null values."
   ]
  },
  {
   "cell_type": "code",
   "execution_count": 6,
   "metadata": {},
   "outputs": [
    {
     "data": {
      "text/html": [
       "<div>\n",
       "<style scoped>\n",
       "    .dataframe tbody tr th:only-of-type {\n",
       "        vertical-align: middle;\n",
       "    }\n",
       "\n",
       "    .dataframe tbody tr th {\n",
       "        vertical-align: top;\n",
       "    }\n",
       "\n",
       "    .dataframe thead th {\n",
       "        text-align: right;\n",
       "    }\n",
       "</style>\n",
       "<table border=\"1\" class=\"dataframe\">\n",
       "  <thead>\n",
       "    <tr style=\"text-align: right;\">\n",
       "      <th></th>\n",
       "      <th>City</th>\n",
       "      <th>Lat</th>\n",
       "      <th>Lng</th>\n",
       "      <th>Max Temp</th>\n",
       "      <th>Humidity</th>\n",
       "      <th>Cloudiness</th>\n",
       "      <th>Wind Speed</th>\n",
       "      <th>Country</th>\n",
       "      <th>Date</th>\n",
       "    </tr>\n",
       "  </thead>\n",
       "  <tbody>\n",
       "    <tr>\n",
       "      <th>41</th>\n",
       "      <td>Laguna</td>\n",
       "      <td>38.42</td>\n",
       "      <td>-121.42</td>\n",
       "      <td>80.01</td>\n",
       "      <td>19</td>\n",
       "      <td>1</td>\n",
       "      <td>1.97</td>\n",
       "      <td>US</td>\n",
       "      <td>1604098805</td>\n",
       "    </tr>\n",
       "    <tr>\n",
       "      <th>132</th>\n",
       "      <td>Makakilo City</td>\n",
       "      <td>21.35</td>\n",
       "      <td>-158.09</td>\n",
       "      <td>84.20</td>\n",
       "      <td>58</td>\n",
       "      <td>20</td>\n",
       "      <td>14.99</td>\n",
       "      <td>US</td>\n",
       "      <td>1604098840</td>\n",
       "    </tr>\n",
       "    <tr>\n",
       "      <th>161</th>\n",
       "      <td>‘Ewa Beach</td>\n",
       "      <td>21.32</td>\n",
       "      <td>-158.01</td>\n",
       "      <td>84.20</td>\n",
       "      <td>58</td>\n",
       "      <td>20</td>\n",
       "      <td>14.99</td>\n",
       "      <td>US</td>\n",
       "      <td>1604098848</td>\n",
       "    </tr>\n",
       "    <tr>\n",
       "      <th>272</th>\n",
       "      <td>Coihueco</td>\n",
       "      <td>-36.62</td>\n",
       "      <td>-71.83</td>\n",
       "      <td>82.40</td>\n",
       "      <td>28</td>\n",
       "      <td>0</td>\n",
       "      <td>5.82</td>\n",
       "      <td>CL</td>\n",
       "      <td>1604098887</td>\n",
       "    </tr>\n",
       "    <tr>\n",
       "      <th>498</th>\n",
       "      <td>Agua Verde</td>\n",
       "      <td>22.90</td>\n",
       "      <td>-106.05</td>\n",
       "      <td>87.80</td>\n",
       "      <td>43</td>\n",
       "      <td>20</td>\n",
       "      <td>11.41</td>\n",
       "      <td>MX</td>\n",
       "      <td>1604098957</td>\n",
       "    </tr>\n",
       "    <tr>\n",
       "      <th>526</th>\n",
       "      <td>Poya</td>\n",
       "      <td>-21.35</td>\n",
       "      <td>165.15</td>\n",
       "      <td>83.66</td>\n",
       "      <td>52</td>\n",
       "      <td>0</td>\n",
       "      <td>5.50</td>\n",
       "      <td>NC</td>\n",
       "      <td>1604098965</td>\n",
       "    </tr>\n",
       "  </tbody>\n",
       "</table>\n",
       "</div>"
      ],
      "text/plain": [
       "              City    Lat     Lng  Max Temp  Humidity  Cloudiness  Wind Speed  \\\n",
       "41          Laguna  38.42 -121.42     80.01        19           1        1.97   \n",
       "132  Makakilo City  21.35 -158.09     84.20        58          20       14.99   \n",
       "161     ‘Ewa Beach  21.32 -158.01     84.20        58          20       14.99   \n",
       "272       Coihueco -36.62  -71.83     82.40        28           0        5.82   \n",
       "498     Agua Verde  22.90 -106.05     87.80        43          20       11.41   \n",
       "526           Poya -21.35  165.15     83.66        52           0        5.50   \n",
       "\n",
       "    Country        Date  \n",
       "41       US  1604098805  \n",
       "132      US  1604098840  \n",
       "161      US  1604098848  \n",
       "272      CL  1604098887  \n",
       "498      MX  1604098957  \n",
       "526      NC  1604098965  "
      ]
     },
     "execution_count": 6,
     "metadata": {},
     "output_type": "execute_result"
    }
   ],
   "source": [
    "ideal_temps = drop_na.loc[(drop_na['Max Temp'] >= 80) & (drop_na['Max Temp'] <= 90)]\n",
    "ideal_clouds = ideal_temps.loc[ideal_temps['Cloudiness'] <= 30]\n",
    "vacation_spots = ideal_clouds.loc[ideal_clouds[\"Humidity\"] < 60]\n",
    "vacation_spots"
   ]
  },
  {
   "cell_type": "markdown",
   "metadata": {},
   "source": [
    "### Hotel Map\n",
    "* Store into variable named `hotel_df`.\n",
    "* Add a \"Hotel Name\" column to the DataFrame.\n",
    "* Set parameters to search for hotels with 5000 meters.\n",
    "* Hit the Google Places API for each city's coordinates.\n",
    "* Store the first Hotel result into the DataFrame.\n",
    "* Plot markers on top of the heatmap."
   ]
  },
  {
   "cell_type": "code",
   "execution_count": 65,
   "metadata": {},
   "outputs": [
    {
     "name": "stderr",
     "output_type": "stream",
     "text": [
      "/Users/lucykaplan/opt/anaconda3/envs/PythonData/lib/python3.6/site-packages/ipykernel_launcher.py:2: SettingWithCopyWarning: \n",
      "A value is trying to be set on a copy of a slice from a DataFrame.\n",
      "Try using .loc[row_indexer,col_indexer] = value instead\n",
      "\n",
      "See the caveats in the documentation: https://pandas.pydata.org/pandas-docs/stable/user_guide/indexing.html#returning-a-view-versus-a-copy\n",
      "  \n"
     ]
    },
    {
     "data": {
      "text/html": [
       "<div>\n",
       "<style scoped>\n",
       "    .dataframe tbody tr th:only-of-type {\n",
       "        vertical-align: middle;\n",
       "    }\n",
       "\n",
       "    .dataframe tbody tr th {\n",
       "        vertical-align: top;\n",
       "    }\n",
       "\n",
       "    .dataframe thead th {\n",
       "        text-align: right;\n",
       "    }\n",
       "</style>\n",
       "<table border=\"1\" class=\"dataframe\">\n",
       "  <thead>\n",
       "    <tr style=\"text-align: right;\">\n",
       "      <th></th>\n",
       "      <th>City</th>\n",
       "      <th>Lat</th>\n",
       "      <th>Lng</th>\n",
       "      <th>Max Temp</th>\n",
       "      <th>Humidity</th>\n",
       "      <th>Cloudiness</th>\n",
       "      <th>Wind Speed</th>\n",
       "      <th>Country</th>\n",
       "      <th>Date</th>\n",
       "      <th>Hotel Name</th>\n",
       "    </tr>\n",
       "  </thead>\n",
       "  <tbody>\n",
       "    <tr>\n",
       "      <th>41</th>\n",
       "      <td>Laguna</td>\n",
       "      <td>38.42</td>\n",
       "      <td>-121.42</td>\n",
       "      <td>80.01</td>\n",
       "      <td>19</td>\n",
       "      <td>1</td>\n",
       "      <td>1.97</td>\n",
       "      <td>US</td>\n",
       "      <td>1604098805</td>\n",
       "      <td></td>\n",
       "    </tr>\n",
       "    <tr>\n",
       "      <th>132</th>\n",
       "      <td>Makakilo City</td>\n",
       "      <td>21.35</td>\n",
       "      <td>-158.09</td>\n",
       "      <td>84.20</td>\n",
       "      <td>58</td>\n",
       "      <td>20</td>\n",
       "      <td>14.99</td>\n",
       "      <td>US</td>\n",
       "      <td>1604098840</td>\n",
       "      <td></td>\n",
       "    </tr>\n",
       "    <tr>\n",
       "      <th>161</th>\n",
       "      <td>‘Ewa Beach</td>\n",
       "      <td>21.32</td>\n",
       "      <td>-158.01</td>\n",
       "      <td>84.20</td>\n",
       "      <td>58</td>\n",
       "      <td>20</td>\n",
       "      <td>14.99</td>\n",
       "      <td>US</td>\n",
       "      <td>1604098848</td>\n",
       "      <td></td>\n",
       "    </tr>\n",
       "    <tr>\n",
       "      <th>272</th>\n",
       "      <td>Coihueco</td>\n",
       "      <td>-36.62</td>\n",
       "      <td>-71.83</td>\n",
       "      <td>82.40</td>\n",
       "      <td>28</td>\n",
       "      <td>0</td>\n",
       "      <td>5.82</td>\n",
       "      <td>CL</td>\n",
       "      <td>1604098887</td>\n",
       "      <td></td>\n",
       "    </tr>\n",
       "    <tr>\n",
       "      <th>498</th>\n",
       "      <td>Agua Verde</td>\n",
       "      <td>22.90</td>\n",
       "      <td>-106.05</td>\n",
       "      <td>87.80</td>\n",
       "      <td>43</td>\n",
       "      <td>20</td>\n",
       "      <td>11.41</td>\n",
       "      <td>MX</td>\n",
       "      <td>1604098957</td>\n",
       "      <td></td>\n",
       "    </tr>\n",
       "    <tr>\n",
       "      <th>526</th>\n",
       "      <td>Poya</td>\n",
       "      <td>-21.35</td>\n",
       "      <td>165.15</td>\n",
       "      <td>83.66</td>\n",
       "      <td>52</td>\n",
       "      <td>0</td>\n",
       "      <td>5.50</td>\n",
       "      <td>NC</td>\n",
       "      <td>1604098965</td>\n",
       "      <td></td>\n",
       "    </tr>\n",
       "  </tbody>\n",
       "</table>\n",
       "</div>"
      ],
      "text/plain": [
       "              City    Lat     Lng  Max Temp  Humidity  Cloudiness  Wind Speed  \\\n",
       "41          Laguna  38.42 -121.42     80.01        19           1        1.97   \n",
       "132  Makakilo City  21.35 -158.09     84.20        58          20       14.99   \n",
       "161     ‘Ewa Beach  21.32 -158.01     84.20        58          20       14.99   \n",
       "272       Coihueco -36.62  -71.83     82.40        28           0        5.82   \n",
       "498     Agua Verde  22.90 -106.05     87.80        43          20       11.41   \n",
       "526           Poya -21.35  165.15     83.66        52           0        5.50   \n",
       "\n",
       "    Country        Date Hotel Name  \n",
       "41       US  1604098805             \n",
       "132      US  1604098840             \n",
       "161      US  1604098848             \n",
       "272      CL  1604098887             \n",
       "498      MX  1604098957             \n",
       "526      NC  1604098965             "
      ]
     },
     "execution_count": 65,
     "metadata": {},
     "output_type": "execute_result"
    }
   ],
   "source": [
    "hotel_df = vacation_spots\n",
    "hotel_df[\"Hotel Name\"] = \"\"\n",
    "hotel_df"
   ]
  },
  {
   "cell_type": "code",
   "execution_count": 84,
   "metadata": {},
   "outputs": [],
   "source": [
    "base_url = \"https://maps.googleapis.com/maps/api/place/nearbysearch/json?\""
   ]
  },
  {
   "cell_type": "code",
   "execution_count": 107,
   "metadata": {
    "scrolled": true
   },
   "outputs": [
    {
     "name": "stdout",
     "output_type": "stream",
     "text": [
      "Missing field/result... skipping.\n",
      "Missing field/result... skipping.\n"
     ]
    }
   ],
   "source": [
    "target_radius = 5000\n",
    "target_type = \"lodging\"\n",
    "params = {\n",
    "    \"radius\": target_radius,\n",
    "    \"type\": target_type,\n",
    "    \"key\": g_key\n",
    "    }\n",
    "for index, row in hotel_df.iterrows():\n",
    "    lat = row[\"Lat\"]\n",
    "    lng = row[\"Lng\"]\n",
    "    params[\"location\"] = f\"{lat},{lng}\"\n",
    "    response = requests.get(base_url, params=params).json()\n",
    "    try:\n",
    "        hotel_df.loc[index, \"Hotel Name\"] = response[\"results\"][0][\"name\"]\n",
    "    except (KeyError, IndexError):\n",
    "        print(\"Missing field/result... skipping.\")"
   ]
  },
  {
   "cell_type": "code",
   "execution_count": 108,
   "metadata": {},
   "outputs": [
    {
     "data": {
      "text/html": [
       "<div>\n",
       "<style scoped>\n",
       "    .dataframe tbody tr th:only-of-type {\n",
       "        vertical-align: middle;\n",
       "    }\n",
       "\n",
       "    .dataframe tbody tr th {\n",
       "        vertical-align: top;\n",
       "    }\n",
       "\n",
       "    .dataframe thead th {\n",
       "        text-align: right;\n",
       "    }\n",
       "</style>\n",
       "<table border=\"1\" class=\"dataframe\">\n",
       "  <thead>\n",
       "    <tr style=\"text-align: right;\">\n",
       "      <th></th>\n",
       "      <th>City</th>\n",
       "      <th>Lat</th>\n",
       "      <th>Lng</th>\n",
       "      <th>Max Temp</th>\n",
       "      <th>Humidity</th>\n",
       "      <th>Cloudiness</th>\n",
       "      <th>Wind Speed</th>\n",
       "      <th>Country</th>\n",
       "      <th>Date</th>\n",
       "      <th>Hotel Name</th>\n",
       "    </tr>\n",
       "  </thead>\n",
       "  <tbody>\n",
       "    <tr>\n",
       "      <th>41</th>\n",
       "      <td>Laguna</td>\n",
       "      <td>38.42</td>\n",
       "      <td>-121.42</td>\n",
       "      <td>80.01</td>\n",
       "      <td>19</td>\n",
       "      <td>1</td>\n",
       "      <td>1.97</td>\n",
       "      <td>US</td>\n",
       "      <td>1604098805</td>\n",
       "      <td>Holiday Inn Express &amp; Suites Elk Grove Central...</td>\n",
       "    </tr>\n",
       "    <tr>\n",
       "      <th>132</th>\n",
       "      <td>Makakilo City</td>\n",
       "      <td>21.35</td>\n",
       "      <td>-158.09</td>\n",
       "      <td>84.20</td>\n",
       "      <td>58</td>\n",
       "      <td>20</td>\n",
       "      <td>14.99</td>\n",
       "      <td>US</td>\n",
       "      <td>1604098840</td>\n",
       "      <td>Marriott's Ko Olina Beach Club</td>\n",
       "    </tr>\n",
       "    <tr>\n",
       "      <th>161</th>\n",
       "      <td>‘Ewa Beach</td>\n",
       "      <td>21.32</td>\n",
       "      <td>-158.01</td>\n",
       "      <td>84.20</td>\n",
       "      <td>58</td>\n",
       "      <td>20</td>\n",
       "      <td>14.99</td>\n",
       "      <td>US</td>\n",
       "      <td>1604098848</td>\n",
       "      <td>Hampton Inn &amp; Suites Oahu/Kapolei</td>\n",
       "    </tr>\n",
       "    <tr>\n",
       "      <th>272</th>\n",
       "      <td>Coihueco</td>\n",
       "      <td>-36.62</td>\n",
       "      <td>-71.83</td>\n",
       "      <td>82.40</td>\n",
       "      <td>28</td>\n",
       "      <td>0</td>\n",
       "      <td>5.82</td>\n",
       "      <td>CL</td>\n",
       "      <td>1604098887</td>\n",
       "      <td>Frutillares Coihueco</td>\n",
       "    </tr>\n",
       "    <tr>\n",
       "      <th>498</th>\n",
       "      <td>Agua Verde</td>\n",
       "      <td>22.90</td>\n",
       "      <td>-106.05</td>\n",
       "      <td>87.80</td>\n",
       "      <td>43</td>\n",
       "      <td>20</td>\n",
       "      <td>11.41</td>\n",
       "      <td>MX</td>\n",
       "      <td>1604098957</td>\n",
       "      <td>Laboratorio Prolamar</td>\n",
       "    </tr>\n",
       "    <tr>\n",
       "      <th>526</th>\n",
       "      <td>Poya</td>\n",
       "      <td>-21.35</td>\n",
       "      <td>165.15</td>\n",
       "      <td>83.66</td>\n",
       "      <td>52</td>\n",
       "      <td>0</td>\n",
       "      <td>5.50</td>\n",
       "      <td>NC</td>\n",
       "      <td>1604098965</td>\n",
       "      <td>Opt Poya</td>\n",
       "    </tr>\n",
       "  </tbody>\n",
       "</table>\n",
       "</div>"
      ],
      "text/plain": [
       "              City    Lat     Lng  Max Temp  Humidity  Cloudiness  Wind Speed  \\\n",
       "41          Laguna  38.42 -121.42     80.01        19           1        1.97   \n",
       "132  Makakilo City  21.35 -158.09     84.20        58          20       14.99   \n",
       "161     ‘Ewa Beach  21.32 -158.01     84.20        58          20       14.99   \n",
       "272       Coihueco -36.62  -71.83     82.40        28           0        5.82   \n",
       "498     Agua Verde  22.90 -106.05     87.80        43          20       11.41   \n",
       "526           Poya -21.35  165.15     83.66        52           0        5.50   \n",
       "\n",
       "    Country        Date                                         Hotel Name  \n",
       "41       US  1604098805  Holiday Inn Express & Suites Elk Grove Central...  \n",
       "132      US  1604098840                     Marriott's Ko Olina Beach Club  \n",
       "161      US  1604098848                  Hampton Inn & Suites Oahu/Kapolei  \n",
       "272      CL  1604098887                               Frutillares Coihueco  \n",
       "498      MX  1604098957                               Laboratorio Prolamar  \n",
       "526      NC  1604098965                                           Opt Poya  "
      ]
     },
     "execution_count": 108,
     "metadata": {},
     "output_type": "execute_result"
    }
   ],
   "source": [
    "hotel_df"
   ]
  },
  {
   "cell_type": "code",
   "execution_count": 109,
   "metadata": {},
   "outputs": [],
   "source": [
    "# NOTE: Do not change any of the code in this cell\n",
    "\n",
    "# Using the template add the hotel marks to the heatmap\n",
    "info_box_template = \"\"\"\n",
    "<dl>\n",
    "<dt>Name</dt><dd>{Hotel Name}</dd>\n",
    "<dt>City</dt><dd>{City}</dd>\n",
    "<dt>Country</dt><dd>{Country}</dd>\n",
    "</dl>\n",
    "\"\"\"\n",
    "# Store the DataFrame Row\n",
    "# NOTE: be sure to update with your DataFrame name\n",
    "hotel_info = [info_box_template.format(**row) for index, row in hotel_df.iterrows()]\n",
    "locations = hotel_df[[\"Lat\", \"Lng\"]]"
   ]
  },
  {
   "cell_type": "code",
   "execution_count": 118,
   "metadata": {},
   "outputs": [
    {
     "data": {
      "application/vnd.jupyter.widget-view+json": {
       "model_id": "17f79494e17e4d3fa1c7b281932206f8",
       "version_major": 2,
       "version_minor": 0
      },
      "text/plain": [
       "Figure(layout=FigureLayout(height='420px'))"
      ]
     },
     "metadata": {},
     "output_type": "display_data"
    }
   ],
   "source": [
    "# Add marker layer ontop of heat map\n",
    "hotel_list = hotel_df[\"Hotel Name\"].tolist()\n",
    "hotel_layer = gmaps.symbol_layer(\n",
    "    locations, fill_color='rgba(0, 150, 0, 0.4)',\n",
    "    stroke_color='rgba(0, 0, 150, 0.4)', scale=2,\n",
    "    info_box_content = hotel_info\n",
    ")\n",
    "\n",
    "fig.add_layer(hotel_layer)\n",
    "\n",
    "# Display figure\n",
    "fig"
   ]
  },
  {
   "cell_type": "raw",
   "metadata": {},
   "source": []
  }
 ],
 "metadata": {
  "kernelspec": {
   "display_name": "Python 3",
   "language": "python",
   "name": "python3"
  },
  "language_info": {
   "codemirror_mode": {
    "name": "ipython",
    "version": 3
   },
   "file_extension": ".py",
   "mimetype": "text/x-python",
   "name": "python",
   "nbconvert_exporter": "python",
   "pygments_lexer": "ipython3",
   "version": "3.6.12"
  },
  "latex_envs": {
   "LaTeX_envs_menu_present": true,
   "autoclose": false,
   "autocomplete": true,
   "bibliofile": "biblio.bib",
   "cite_by": "apalike",
   "current_citInitial": 1,
   "eqLabelWithNumbers": true,
   "eqNumInitial": 1,
   "hotkeys": {
    "equation": "Ctrl-E",
    "itemize": "Ctrl-I"
   },
   "labels_anchors": false,
   "latex_user_defs": false,
   "report_style_numbering": false,
   "user_envs_cfg": false
  }
 },
 "nbformat": 4,
 "nbformat_minor": 4
}
